{
  "nbformat": 4,
  "nbformat_minor": 0,
  "metadata": {
    "colab": {
      "name": "FilterCrimesJalisco18-19.ipynb",
      "provenance": [],
      "collapsed_sections": []
    },
    "kernelspec": {
      "name": "python3",
      "display_name": "Python 3"
    }
  },
  "cells": [
    {
      "cell_type": "markdown",
      "metadata": {
        "id": "LFnIwgj4YAjs",
        "colab_type": "text"
      },
      "source": [
        "# Dataset incidencia criminal\n",
        "\n",
        "Los datos que utilizamos para nuestro análisis se pueden encontrar [aquí](https://iieg.gob.mx/ns/wp-content/uploads/2020/04/marzo20.rar).\n",
        "\n",
        "Lamentablemente no existe una ruta directa al .csv."
      ]
    },
    {
      "cell_type": "code",
      "metadata": {
        "id": "W7qRThDmPFUC",
        "colab_type": "code",
        "colab": {}
      },
      "source": [
        "import pandas as pd\n",
        "\n",
        "df = pd.read_csv('marzo20.csv')\n",
        "\n",
        "years = [2018, 2019]\n",
        "\n",
        "filtered = df[(df['Año'].isin(years))]\n",
        "\n",
        "filtered.to_csv('incidencia_delictiva_jalisco18-19_filter.csv', index=False)"
      ],
      "execution_count": null,
      "outputs": []
    }
  ]
}