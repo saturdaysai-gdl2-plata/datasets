{
  "nbformat": 4,
  "nbformat_minor": 0,
  "metadata": {
    "colab": {
      "name": "EDA MiBici.ipynb",
      "provenance": []
    },
    "kernelspec": {
      "name": "python3",
      "display_name": "Python 3"
    }
  },
  "cells": [
    {
      "cell_type": "markdown",
      "metadata": {
        "id": "JvqasNWf3N6L",
        "colab_type": "text"
      },
      "source": [
        "## Downloading datasets"
      ]
    },
    {
      "cell_type": "code",
      "metadata": {
        "id": "uw9yCw5mKEKw",
        "colab_type": "code",
        "colab": {}
      },
      "source": [
        "urls = [\n",
        "    \"https://www.mibici.net/site/assets/files/1200/datos_abiertos_2018_01.csv\",\n",
        "    \"https://www.mibici.net/site/assets/files/1201/datos_abiertos_2018_02.csv\",\n",
        "    \"https://www.mibici.net/site/assets/files/1202/datos_abiertos_2018_03.csv\",\n",
        "    \"https://www.mibici.net/site/assets/files/1203/datos_abiertos_2018_04.csv\",\n",
        "    \"https://www.mibici.net/site/assets/files/1204/datos_abiertos_2018_05.csv\",\n",
        "    \"https://www.mibici.net/site/assets/files/1205/datos_abiertos_2018_06.csv\",\n",
        "    \"https://www.mibici.net/site/assets/files/1206/datos_abiertos_2018_07.csv\",\n",
        "    \"https://www.mibici.net/site/assets/files/1207/datos_abiertos_2018_08.csv\",\n",
        "    \"https://www.mibici.net/site/assets/files/1208/datos_abiertos_2018_09.csv\",\n",
        "    \"https://www.mibici.net/site/assets/files/1209/datos_abiertos_2018_10.csv\",\n",
        "    \"https://www.mibici.net/site/assets/files/1210/datos_abiertos_2018_11.csv\",\n",
        "    \"https://www.mibici.net/site/assets/files/1211/datos_abiertos_2018_12.csv\",\n",
        "    \"https://www.mibici.net/site/assets/files/1214/datos_abiertos_2019_01.csv\",\n",
        "    \"https://www.mibici.net/site/assets/files/1217/datos_abiertos_2019_02.csv\",\n",
        "    \"https://www.mibici.net/site/assets/files/1218/datos_abiertos_2019_03.csv\",\n",
        "    \"https://www.mibici.net/site/assets/files/1220/datos_abiertos_2019_05.csv\",\n",
        "    \"https://www.mibici.net/site/assets/files/1221/datos_abiertos_2019_06.csv\",\n",
        "    \"https://www.mibici.net/site/assets/files/1222/datos_abiertos_2019_07.csv\",\n",
        "    \"https://www.mibici.net/site/assets/files/1223/datos_abiertos_2019_08.csv\",\n",
        "    \"https://www.mibici.net/site/assets/files/1224/datos_abiertos_2019_09.csv\",\n",
        "    \"https://www.mibici.net/site/assets/files/1225/datos_abiertos_2019_10.csv\",\n",
        "    \"https://www.mibici.net/site/assets/files/1227/datos_abiertos_2019_11.csv\",\n",
        "    \"https://www.mibici.net/site/assets/files/1228/datos_abiertos_2019_12.csv\"\n",
        "]\n",
        "\n",
        "for url in urls:\n",
        "    !curl -O \"$url\"\n",
        "\n",
        "import glob\n",
        "filenames = glob.glob(\"*.csv\")\n",
        "\n",
        "import pandas as pd\n",
        "combined_csv = pd.concat([pd.read_csv(f, engine=\"python\") for f in filenames])\n",
        "combined_csv.to_csv(\"datos.csv\", index=False)\n",
        "\n",
        "import os\n",
        "for f in filenames:\n",
        "    os.remove(f)\n",
        "\n",
        "df = pd.read_csv('datos.csv')\n",
        "df = df.rename(columns={\"A�o_de_nacimiento\": \"Anio_de_nacimiento\"})"
      ],
      "execution_count": 0,
      "outputs": []
    }
  ]
}
